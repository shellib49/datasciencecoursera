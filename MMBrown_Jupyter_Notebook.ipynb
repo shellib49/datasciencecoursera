{
 "cells": [
  {
   "cell_type": "markdown",
   "metadata": {},
   "source": [
    "<center>\n",
    "    <img src=\"https://cf-courses-data.s3.us.cloud-object-storage.appdomain.cloud/IBMDeveloperSkillsNetwork-DS0105EN-SkillsNetwork/labs/Module2/images/SN_web_lightmode.png\" width=\"300\" alt=\"cognitiveclass.ai logo\"  />\n",
    "</center>\n"
   ]
  },
  {
   "cell_type": "markdown",
   "metadata": {},
   "source": [
    "#### Add your code below following the instructions given in the course\n"
   ]
  },
  {
   "cell_type": "markdown",
   "metadata": {},
   "source": [
    "<h1>My Jupyter Notebook on IBM Watson Studio</h1>"
   ]
  },
  {
   "cell_type": "markdown",
   "metadata": {},
   "source": [
    "<b>Michelle M. Brown</b>\n",
    "Manager, Data Analyst"
   ]
  },
  {
   "cell_type": "markdown",
   "metadata": {},
   "source": [
    "<i>I am interested in Data Science because I love data and the stories data tells.  It's like a puzzle and I enjoy a good puzzle.</i>"
   ]
  },
  {
   "cell_type": "markdown",
   "metadata": {},
   "source": [
    "<h3>My code will display some further information about me and I'll throw in a little math as well</h3>"
   ]
  },
  {
   "cell_type": "code",
   "execution_count": null,
   "metadata": {},
   "outputs": [],
   "source": [
    "first_name = \"Michelle\"\n",
    "favorite_language = \"Python\"\n",
    "viz_app = \"Tableau\"\n",
    "\n",
    "print(f\"Hi, I'm {first_name}. My favorite programming language is {favorite_language} and my favorite viz app to work in is {viz_app}.\")\n",
    "\n",
    "x = min(5, 10, 25)\n",
    "y = max(5, 10, 25)\n",
    "\n",
    "print(x)\n",
    "print(y)"
   ]
  },
  {
   "cell_type": "markdown",
   "metadata": {},
   "source": [
    "<h1>My Skills List</h1>\n",
    "<ul style=“list-style-type:square”>\n",
    "\n",
    "<li>MySQL</li>\n",
    "\n",
    "<li>R</li>\n",
    "\n",
    "<li>Python</li>\n",
    "\n",
    "</ul>\n",
    "\n",
    "<h1>My Top 3 Favorite Cities </h1>\n",
    "<ol type=\"1\">\n",
    "   <li>New York City</li>\n",
    "   <li>Amsterdam</li>\n",
    "   <li>Barcelona</li>\n",
    "</ol>\n",
    "\n",
    "<h1>Today's Good News</h1>\n",
    "<a href=\"https://www.cnn.com/2022/11/20/media/disney-bob-iger-ceo/index.html\">Bob Iger Returns</a>\n"
   ]
  }
 ],
 "metadata": {
  "kernelspec": {
   "display_name": "Python",
   "language": "python",
   "name": "conda-env-python-py"
  },
  "language_info": {
   "codemirror_mode": {
    "name": "ipython",
    "version": 3
   },
   "file_extension": ".py",
   "mimetype": "text/x-python",
   "name": "python",
   "nbconvert_exporter": "python",
   "pygments_lexer": "ipython3",
   "version": "3.7.12"
  }
 },
 "nbformat": 4,
 "nbformat_minor": 4
}
